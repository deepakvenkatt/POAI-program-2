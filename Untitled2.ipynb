{
  "nbformat": 4,
  "nbformat_minor": 0,
  "metadata": {
    "colab": {
      "provenance": [],
      "authorship_tag": "ABX9TyPiyB9A8KfWnZxZWheGKt3E",
      "include_colab_link": true
    },
    "kernelspec": {
      "name": "python3",
      "display_name": "Python 3"
    },
    "language_info": {
      "name": "python"
    }
  },
  "cells": [
    {
      "cell_type": "markdown",
      "metadata": {
        "id": "view-in-github",
        "colab_type": "text"
      },
      "source": [
        "<a href=\"https://colab.research.google.com/github/deepakvenkatt/POAI-program-2/blob/main/Untitled2.ipynb\" target=\"_parent\"><img src=\"https://colab.research.google.com/assets/colab-badge.svg\" alt=\"Open In Colab\"/></a>"
      ]
    },
    {
      "cell_type": "code",
      "execution_count": 5,
      "metadata": {
        "colab": {
          "base_uri": "https://localhost:8080/"
        },
        "id": "rpdslpgnO1ya",
        "outputId": "b25b2bd0-9c49-48c0-d49e-395213d7a10f"
      },
      "outputs": [
        {
          "output_type": "stream",
          "name": "stdout",
          "text": [
            "A B D E F C "
          ]
        }
      ],
      "source": [
        "def dfs(graph, start, visited=None):\n",
        "    if visited is None:\n",
        "             visited = set()\n",
        "    print(start, end=\" \")  # Process the node\n",
        "    visited.add(start)\n",
        "    for neighbor in graph[start]:\n",
        "          if neighbor not in visited:\n",
        "             dfs(graph, neighbor, visited)\n",
        "# Example graph as an adjacency list\n",
        "graph = {\n",
        "       'A': ['B', 'C'],\n",
        "       'B': ['D', 'E'],\n",
        "       'C': ['F'],\n",
        "       'D': [],\n",
        "       'E': ['F'],\n",
        "       'F': []\n",
        "      }\n",
        "# Call DFS\n",
        "dfs(graph, 'A')"
      ]
    }
  ]
}